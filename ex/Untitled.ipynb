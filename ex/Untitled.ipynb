{
 "cells": [
  {
   "cell_type": "code",
   "execution_count": null,
   "id": "a796d8bd-e58c-4875-aed3-645e839b1ee6",
   "metadata": {},
   "outputs": [],
   "source": [
    "void shell_sort(double arr[], int n) {\n",
    "    int i,j,h;\n",
    "    double ce;\n",
    "    int gaps[] = {1073643521, 603906049, 268386305, 150958081, 67084289, 37730305, 16764929, \n",
    "                  9427969, 4188161, 2354689, 1045505, 587521, 260609, 146305, 64769, 36289, \n",
    "                  16001, 8929, 3905, 2161, 929, 505, 209, 109, 41, 19, 5, 1};\n",
    "    int num_gaps = sizeof(gaps) / sizeof(gaps[0]);\n",
    "    for (int g = 0; g < num_gaps; g++) {\n",
    "        h = gaps[g];\n",
    "        #pragma omp parallel for shared(arr, h)\n",
    "        for (int i = h; i < n; i++) {\n",
    "            ce = arr[i];\n",
    "            j = i;\n",
    "            while (j >= h && arr[j - h] > ce) {\n",
    "                arr[j] = arr[j - h];\n",
    "                j -= h;\n",
    "            }\n",
    "            arr[j] = ce;\n",
    "        }\n",
    "    }\n",
    "}\n"
   ]
  }
 ],
 "metadata": {
  "kernelspec": {
   "display_name": "C",
   "language": "c",
   "name": "c"
  },
  "language_info": {
   "file_extension": ".c",
   "mimetype": "text/x-csrc",
   "name": "text/x-csrc"
  }
 },
 "nbformat": 4,
 "nbformat_minor": 5
}
