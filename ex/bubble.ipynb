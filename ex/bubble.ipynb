{
 "cells": [
  {
   "cell_type": "code",
   "execution_count": 20,
   "id": "44c5b71f-857d-465a-b2ce-243cbf2e84b5",
   "metadata": {
    "tags": []
   },
   "outputs": [
    {
     "name": "stdout",
     "output_type": "stream",
     "text": [
      "\n",
      " sort .... \n",
      "bubble:22.304390\n"
     ]
    }
   ],
   "source": [
    "//%cflags: -O2\n",
    "//%args: 100000\n",
    "#include <stdio.h>\n",
    "#include <stdlib.h>\n",
    "#include <time.h>\n",
    "double toc(double tstart) ;\n",
    "#define DTYPE   double\n",
    "#define SWAP(aa,bb) { DTYPE  tmp; tmp=aa; aa=bb; bb=tmp;}\n",
    "DTYPE *mk_rand_data(int N);\n",
    "void bubblesort( DTYPE arr[], int N);\n",
    "\n",
    "int main(int argc, char *argv[])\n",
    "{\n",
    "    DTYPE *arr;\n",
    "    double tstart;\n",
    "    int N,i;\n",
    "    N = atoi(argv[1]);\n",
    "    srand(time(NULL));\n",
    "    arr=mk_rand_data( N );\n",
    "    printf(\"\\n sort .... \\n\");\n",
    "    tstart=clock();\n",
    "    bubblesort(arr, N);\n",
    "    printf(\"bubble:%f\\n\", toc(tstart));\n",
    "//#if 0\n",
    "    if( N <=20) {\n",
    "    for(i = 0; i < N ; i++)\n",
    "       printf(\"%f \\n\", arr[i]);\n",
    "    }\n",
    "//#endif\n",
    "        return 0;\n",
    "}\n",
    "\n",
    "double toc(double tstart) {\n",
    "    return (clock() - tstart) / CLOCKS_PER_SEC;\n",
    "}\n",
    "\n",
    "DTYPE *mk_rand_data(int N)\n",
    "{\n",
    "        DTYPE *arr = (DTYPE *) malloc(sizeof(DTYPE) * N);\n",
    "        for(int i = 0; i < N; i++)\n",
    "        arr[i] = rand() /(DTYPE) RAND_MAX;\n",
    "    return arr;\n",
    "}\n",
    "\n",
    "void bubblesort(DTYPE arr[], int N)\n",
    "{\n",
    "        int i,  k;\n",
    "        for (k = 1; k <= N - 1; k++){\n",
    "            for (i = 0; i < N - k; i++)\n",
    "                if (arr[i] > arr[i+1]){\n",
    "                     SWAP(arr[i + 1], arr[i]);\n",
    "                }\n",
    "    }\n",
    "}\n"
   ]
  },
  {
   "cell_type": "code",
   "execution_count": null,
   "id": "54ec5747-e1a3-4070-9dd6-bf9b6534c16f",
   "metadata": {},
   "outputs": [],
   "source": []
  }
 ],
 "metadata": {
  "kernelspec": {
   "display_name": "C",
   "language": "c",
   "name": "c"
  },
  "language_info": {
   "file_extension": ".c",
   "mimetype": "text/x-csrc",
   "name": "text/x-csrc"
  }
 },
 "nbformat": 4,
 "nbformat_minor": 5
}
