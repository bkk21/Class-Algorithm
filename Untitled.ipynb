{
 "cells": [
  {
   "cell_type": "code",
   "execution_count": 1,
   "id": "bc183ebc-618b-40ae-adb4-9f766927708b",
   "metadata": {
    "tags": []
   },
   "outputs": [
    {
     "name": "stdout",
     "output_type": "stream",
     "text": [
      "Before sorting: 3.50 2.20 1.10 4.60 5.20 6.90 \n",
      "After sorting: 4.60 4.60 4.60 4.60 5.20 6.90 \n"
     ]
    }
   ],
   "source": [
    "#include <stdio.h>\n",
    "#include <stdlib.h>\n",
    "\n",
    "void merge(double arr[], int left[], int left_size, int right[], int right_size) {\n",
    "    int i = 0, j = 0, k = 0;\n",
    "    \n",
    "    while (i < left_size && j < right_size) {\n",
    "        if (arr[left[i]] <= arr[right[j]]) {\n",
    "            arr[k++] = arr[left[i++]];\n",
    "        } else {\n",
    "            arr[k++] = arr[right[j++]];\n",
    "        }\n",
    "    }\n",
    "    \n",
    "    while (i < left_size) {\n",
    "        arr[k++] = arr[left[i++]];\n",
    "    }\n",
    "    while (j < right_size) {\n",
    "        arr[k++] = arr[right[j++]];\n",
    "    }\n",
    "}\n",
    "\n",
    "void merge_sort(double arr[], int idx[], int arr_size) {\n",
    "    if (arr_size < 2) {\n",
    "        return;\n",
    "    }\n",
    "    \n",
    "    int mid = arr_size / 2;\n",
    "    int left[mid];\n",
    "    int right[arr_size - mid];\n",
    "    for (int i = 0; i < mid; i++) {\n",
    "        left[i] = idx[i];\n",
    "    }\n",
    "    for (int i = mid; i < arr_size; i++) {\n",
    "        right[i - mid] = idx[i];\n",
    "    }\n",
    "    \n",
    "    merge_sort(arr, left, mid);\n",
    "    merge_sort(arr, right, arr_size - mid);\n",
    "    \n",
    "    merge(arr, left, mid, right, arr_size - mid);\n",
    "}\n",
    "\n",
    "int main() {\n",
    "    double arr[] = {3.5, 2.2, 1.1, 4.6, 5.2, 6.9};\n",
    "    int arr_size = sizeof(arr) / sizeof(arr[0]);\n",
    "    \n",
    "    // 각 원소의 인덱스를 저장할 배열을 생성한다.\n",
    "    int idx[arr_size];\n",
    "    for (int i = 0; i < arr_size; i++) {\n",
    "        idx[i] = i;\n",
    "    }\n",
    "    \n",
    "    printf(\"Before sorting: \");\n",
    "    for (int i = 0; i < arr_size; i++) {\n",
    "        printf(\"%.2f \", arr[i]);\n",
    "    }\n",
    "    printf(\"\\n\");\n",
    "    \n",
    "    merge_sort(arr, idx, arr_size);\n",
    "    \n",
    "    printf(\"After sorting: \");\n",
    "    for (int i = 0; i < arr_size; i++) {\n",
    "        printf(\"%.2f \", arr[idx[i]]);\n",
    "    }\n",
    "    printf(\"\\n\");\n",
    "    \n",
    "    return 0;\n",
    "}"
   ]
  }
 ],
 "metadata": {
  "kernelspec": {
   "display_name": "C",
   "language": "c",
   "name": "c"
  },
  "language_info": {
   "file_extension": ".c",
   "mimetype": "text/x-csrc",
   "name": "text/x-csrc"
  }
 },
 "nbformat": 4,
 "nbformat_minor": 5
}
